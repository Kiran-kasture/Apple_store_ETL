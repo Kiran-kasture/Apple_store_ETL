{
 "cells": [
  {
   "cell_type": "code",
   "execution_count": 1,
   "id": "614b3d4e-882f-4078-a7aa-c7c3d3d3cc73",
   "metadata": {},
   "outputs": [],
   "source": [
    "import pyspark\n",
    "from pyspark.sql import *\n",
    "from pyspark.sql import SparkSession\n",
    "from pyspark.sql.types import *\n",
    "from pyspark.sql.functions import *\n",
    "import matplotlib.pyplot as plt\n",
    "import seaborn as sns\n",
    "spark=SparkSession.builder.appName('Apple DataSet').getOrCreate()\n",
    "spark.conf.set(\"spark.sql.legacy.timeParserPolicy\", \"LEGACY\")"
   ]
  },
  {
   "cell_type": "markdown",
   "id": "ca02987f-3198-4aa6-93b1-3ecdbcd0a3b4",
   "metadata": {},
   "source": [
    "# Products "
   ]
  },
  {
   "cell_type": "code",
   "execution_count": 2,
   "id": "bdc58573-9f74-4476-852c-a5380a54c762",
   "metadata": {},
   "outputs": [
    {
     "name": "stdout",
     "output_type": "stream",
     "text": [
      "+----------+--------------------+-----------+-----------+-----+\n",
      "|Product_ID|        Product_Name|Category_ID|launch_date|Price|\n",
      "+----------+--------------------+-----------+-----------+-----+\n",
      "|       P-1|             MacBook|      CAT-1| 2023-09-17| 1149|\n",
      "|       P-2|    MacBook Air (M1)|      CAT-1| 2023-11-11| 1783|\n",
      "|       P-3|    MacBook Air (M2)|      CAT-1| 2020-05-24| 1588|\n",
      "|       P-4| MacBook Pro 13-inch|      CAT-1| 2021-01-17| 1351|\n",
      "|       P-5| MacBook Pro 14-inch|      CAT-1| 2024-05-12|  768|\n",
      "|       P-6| MacBook Pro 16-inch|      CAT-1| 2021-12-28| 1179|\n",
      "|       P-7|    MacBook (Retina)|      CAT-1| 2023-10-17|  231|\n",
      "|       P-8|MacBook Air (Retina)|      CAT-1| 2020-01-16| 1847|\n",
      "|       P-9|MacBook Pro (Touc...|      CAT-1| 2024-06-17| 1304|\n",
      "|      P-10|MacBook (Early 2015)|      CAT-1| 2022-11-19|  741|\n",
      "|      P-11|AirPods (2nd Gene...|      CAT-2| 2022-06-13|  504|\n",
      "|      P-12|AirPods (3rd Gene...|      CAT-2| 2021-05-30| 1842|\n",
      "|      P-13|         AirPods Pro|      CAT-2| 2024-10-06| 1167|\n",
      "|      P-14|AirPods Pro (2nd ...|      CAT-2| 2021-01-29|  696|\n",
      "|      P-15|         AirPods Max|      CAT-2| 2022-08-19| 1603|\n",
      "|      P-16|   Beats Studio Buds|      CAT-2| 2024-05-07|  762|\n",
      "|      P-17|       Beats Fit Pro|      CAT-2| 2022-12-23| 1839|\n",
      "|      P-18|      Beats Solo Pro|      CAT-2| 2024-02-26| 1773|\n",
      "|      P-19|Beats Powerbeats Pro|      CAT-2| 2020-12-15| 1060|\n",
      "|      P-20|HomePod (2nd Gene...|      CAT-2| 2020-10-15|  689|\n",
      "+----------+--------------------+-----------+-----------+-----+\n",
      "only showing top 20 rows\n",
      "\n"
     ]
    }
   ],
   "source": [
    "products_schema=StructType([StructField('Product_ID',StringType(),True),\n",
    "                           StructField('Product_Name',StringType(),True),\n",
    "                            StructField('Category_ID',StringType(),True),\n",
    "                             StructField('Launch_Date',StringType(),True),\n",
    "                             StructField('Price',IntegerType(),True)\n",
    "                            \n",
    "                           ])\n",
    "products=spark.read.csv('products.csv',schema=products_schema,header=True)\n",
    "products = products.withColumn(\"launch_date\", to_date(\"launch_date\",\"dd-MM-yyyy\"))\n",
    "\n",
    "products.show()"
   ]
  },
  {
   "cell_type": "code",
   "execution_count": 3,
   "id": "dc9ffc88-d9f3-4982-8518-6fadf224a259",
   "metadata": {},
   "outputs": [
    {
     "name": "stdout",
     "output_type": "stream",
     "text": [
      "+----------+------------+-----------+-----------+-----+\n",
      "|Product_ID|Product_Name|Category_ID|launch_date|Price|\n",
      "+----------+------------+-----------+-----------+-----+\n",
      "|         0|           0|          0|          0|    0|\n",
      "+----------+------------+-----------+-----------+-----+\n",
      "\n"
     ]
    }
   ],
   "source": [
    "# checking for missing values\n",
    "products.select([sum(col(c).isNull().cast('int')).alias(c) for c in products.columns]).show()"
   ]
  },
  {
   "cell_type": "code",
   "execution_count": 4,
   "id": "6603ba7d-4bd0-4090-8e32-7c730d7f46ee",
   "metadata": {},
   "outputs": [
    {
     "name": "stdout",
     "output_type": "stream",
     "text": [
      "+----------+------------+-----------+-------------------+\n",
      "|Product_ID|Product_Name|Category_ID|count_of_Product_ID|\n",
      "+----------+------------+-----------+-------------------+\n",
      "+----------+------------+-----------+-------------------+\n",
      "\n"
     ]
    }
   ],
   "source": [
    "# checking for duplicates\n",
    "products.groupby(['Product_ID','Product_Name','Category_ID']).agg(count('Product_ID').alias('count_of_Product_ID')).filter('count_of_Product_ID>1').show()"
   ]
  },
  {
   "cell_type": "markdown",
   "id": "75b3c615-3575-4fa2-bb2a-f7d211a786fc",
   "metadata": {},
   "source": [
    "#  category"
   ]
  },
  {
   "cell_type": "code",
   "execution_count": 5,
   "id": "75329319-a028-4fb5-b94f-ee2f6f664116",
   "metadata": {},
   "outputs": [
    {
     "name": "stdout",
     "output_type": "stream",
     "text": [
      "+-----------+--------------------+\n",
      "|category_id|       category_name|\n",
      "+-----------+--------------------+\n",
      "|      CAT-1|              Laptop|\n",
      "|      CAT-2|               Audio|\n",
      "|      CAT-3|              Tablet|\n",
      "|      CAT-4|          Smartphone|\n",
      "|      CAT-5|            Wearable|\n",
      "|      CAT-6|    Streaming Device|\n",
      "|      CAT-7|             Desktop|\n",
      "|      CAT-8|Subscription Service|\n",
      "|      CAT-9|       Smart Speaker|\n",
      "|     CAT-10|         Accessories|\n",
      "+-----------+--------------------+\n",
      "\n"
     ]
    }
   ],
   "source": [
    "category_schema=StructType([StructField('category_id',StringType(),True),\n",
    "                           StructField('category_name',StringType(),True)])\n",
    "category=spark.read.csv('category.csv',schema=category_schema,header=True)\n",
    "category.show()"
   ]
  },
  {
   "cell_type": "markdown",
   "id": "a247e920-4e83-4ff7-b5e1-7391cda0d6a8",
   "metadata": {},
   "source": [
    "# sales"
   ]
  },
  {
   "cell_type": "code",
   "execution_count": 6,
   "id": "dd5d30f1-25c0-4301-973a-352b2d5c8a42",
   "metadata": {},
   "outputs": [
    {
     "name": "stdout",
     "output_type": "stream",
     "text": [
      "root\n",
      " |-- sale_id: string (nullable = true)\n",
      " |-- sale_date: string (nullable = true)\n",
      " |-- store_id: string (nullable = true)\n",
      " |-- product_id: string (nullable = true)\n",
      " |-- quantity: integer (nullable = true)\n",
      "\n"
     ]
    }
   ],
   "source": [
    "sales=spark.read.csv('sales.csv',inferSchema=True,header=True)\n",
    "sales.printSchema()"
   ]
  },
  {
   "cell_type": "code",
   "execution_count": 7,
   "id": "410b091a-2adb-408c-a36c-e3f98ab0165d",
   "metadata": {},
   "outputs": [
    {
     "name": "stdout",
     "output_type": "stream",
     "text": [
      "+---------+----------+--------+----------+--------+\n",
      "|  sale_id| sale_date|store_id|product_id|quantity|\n",
      "+---------+----------+--------+----------+--------+\n",
      "|  YG-8782|2023-06-16|   ST-10|      P-38|      10|\n",
      "|QX-999001|2022-04-13|   ST-63|      P-48|      10|\n",
      "| JG-46890|2021-07-05|   ST-26|      P-79|       5|\n",
      "|  XJ-1731|2022-07-20|   ST-15|      P-24|       9|\n",
      "| FG-95080|2022-03-18|   ST-35|      P-69|       7|\n",
      "|  II-3954|2024-04-19|   ST-28|      P-45|      10|\n",
      "|  ES-7238|2020-05-11|    ST-3|      P-24|       6|\n",
      "|YO-701453|2023-03-27|   ST-73|       P-9|       7|\n",
      "| JB-46303|2024-08-31|   ST-14|      P-29|       5|\n",
      "|  QY-9761|2021-07-14|   ST-44|      P-24|       1|\n",
      "|  RR-9679|2021-11-15|   ST-58|      P-54|       9|\n",
      "|PT-825391|2021-08-10|    ST-7|      P-62|       8|\n",
      "|  JY-9420|2020-05-14|   ST-62|      P-47|       9|\n",
      "|  WB-9150|2022-11-04|   ST-18|      P-57|       7|\n",
      "|UN-941274|2023-10-27|   ST-10|      P-87|       4|\n",
      "|KL-629620|2021-05-29|   ST-70|      P-52|       7|\n",
      "|  LH-1755|2021-08-28|   ST-34|      P-36|       3|\n",
      "|LK-385613|2021-07-21|   ST-17|      P-14|       6|\n",
      "| JM-75607|2024-10-27|   ST-69|      P-12|       1|\n",
      "| UJ-07947|2024-05-08|   ST-20|       P-4|       6|\n",
      "+---------+----------+--------+----------+--------+\n",
      "only showing top 20 rows\n",
      "\n"
     ]
    }
   ],
   "source": [
    "sales_schema = StructType([\n",
    "    StructField('sale_id', StringType(), True),\n",
    "    StructField('sale_date', StringType(), True), \n",
    "    StructField('store_id', StringType(), True),\n",
    "    StructField('product_id', StringType(), True),\n",
    "    StructField('quantity', IntegerType(), True)\n",
    "])\n",
    "spark.conf.set(\"spark.sql.legacy.timeParserPolicy\", \"LEGACY\")\n",
    "sales = spark.read.csv('sales.csv', schema=sales_schema, header=True)\n",
    "sales = sales.withColumn(\"sale_date\", to_date(\"sale_date\",\"dd-MM-yyyy\"))\n",
    "sales.show()"
   ]
  },
  {
   "cell_type": "code",
   "execution_count": 8,
   "id": "af324824-f136-4847-a726-15f9c92bca9f",
   "metadata": {},
   "outputs": [
    {
     "name": "stdout",
     "output_type": "stream",
     "text": [
      "+-------+---------+--------+----------+--------+\n",
      "|sale_id|sale_date|store_id|product_id|quantity|\n",
      "+-------+---------+--------+----------+--------+\n",
      "|      0|        0|       0|         0|       0|\n",
      "+-------+---------+--------+----------+--------+\n",
      "\n"
     ]
    }
   ],
   "source": [
    "# Checking Missing Data in sales data\n",
    "sales.select([sum(col(c).isNull().cast('int')).alias(c) for c in sales.columns]).show()"
   ]
  },
  {
   "cell_type": "code",
   "execution_count": 9,
   "id": "66c2f2c5-ab1b-40bb-a2f3-260a8c94d360",
   "metadata": {},
   "outputs": [
    {
     "name": "stdout",
     "output_type": "stream",
     "text": [
      "+-------+----------------+\n",
      "|sale_id|count_of_salesid|\n",
      "+-------+----------------+\n",
      "+-------+----------------+\n",
      "\n"
     ]
    }
   ],
   "source": [
    "# checking for duplicates\n",
    "sales.groupby('sale_id').agg(count('sale_id').alias('count_of_salesid')).filter('count_of_salesid>1').show()"
   ]
  },
  {
   "cell_type": "markdown",
   "id": "feb64449-6587-4d03-addf-10fe73df2407",
   "metadata": {},
   "source": [
    "# stores"
   ]
  },
  {
   "cell_type": "code",
   "execution_count": 10,
   "id": "549c04fe-1515-4962-95b7-183f439e86a9",
   "metadata": {},
   "outputs": [
    {
     "name": "stdout",
     "output_type": "stream",
     "text": [
      "+--------+--------------------+-------------+--------------+\n",
      "|Store_ID|          Store_Name|         City|       Country|\n",
      "+--------+--------------------+-------------+--------------+\n",
      "|    ST-1|  Apple Fifth Avenue|     New York| United States|\n",
      "|    ST-2|  Apple Union Square|San Francisco| United States|\n",
      "|    ST-3|Apple Michigan Av...|      Chicago| United States|\n",
      "|    ST-4|     Apple The Grove|  Los Angeles| United States|\n",
      "|    ST-5|          Apple SoHo|     New York| United States|\n",
      "|    ST-6| Apple Grand Central|     New York| United States|\n",
      "|    ST-7|Apple Beverly Center|  Los Angeles| United States|\n",
      "|    ST-8| Apple Pioneer Place|     Portland| United States|\n",
      "|    ST-9|Apple Park Visito...|    Cupertino| United States|\n",
      "|   ST-10|Apple South Coast...|   Costa Mesa| United States|\n",
      "|   ST-11|     Apple Ala Moana|     Honolulu| United States|\n",
      "|   ST-12|Apple North Michi...|      Chicago| United States|\n",
      "|   ST-13| Apple Walnut Street| Philadelphia| United States|\n",
      "|   ST-14|Apple The America...|     Glendale| United States|\n",
      "|   ST-15|Apple Downtown Br...|     Brooklyn| United States|\n",
      "|   ST-16| Apple Regent Street|       London|United Kingdom|\n",
      "|   ST-17| Apple Covent Garden|       London|United Kingdom|\n",
      "|   ST-18|Apple Champs-Elysees|        Paris|        France|\n",
      "|   ST-19|         Apple Opera|        Paris|        France|\n",
      "|   ST-20|Apple Kaerntner S...|       Vienna|       Austria|\n",
      "+--------+--------------------+-------------+--------------+\n",
      "only showing top 20 rows\n",
      "\n"
     ]
    }
   ],
   "source": [
    "store_schema = StructType([\n",
    "    StructField('Store_ID',   StringType(), True),\n",
    "    StructField('Store_Name', StringType(), True),\n",
    "    StructField('City',       StringType(), True),\n",
    "    StructField('Country',    StringType(), True)\n",
    "])\n",
    "stores = spark.read.csv('stores.csv', schema=store_schema, header=True)\n",
    "stores.show()"
   ]
  },
  {
   "cell_type": "code",
   "execution_count": 11,
   "id": "35838165-809d-4e6e-b627-59c74e60d8b0",
   "metadata": {},
   "outputs": [
    {
     "name": "stdout",
     "output_type": "stream",
     "text": [
      "+--------+----------+----+-------+\n",
      "|Store_ID|Store_Name|City|Country|\n",
      "+--------+----------+----+-------+\n",
      "|       0|         0|   0|      0|\n",
      "+--------+----------+----+-------+\n",
      "\n"
     ]
    }
   ],
   "source": [
    "#cheking missing values in stores dataset\n",
    "stores.select([sum(col(c).isNull().cast('int')).alias(c) for c in stores.columns]).show()"
   ]
  },
  {
   "cell_type": "code",
   "execution_count": 12,
   "id": "e4703807-771a-4c3c-99b1-49723c210ee3",
   "metadata": {},
   "outputs": [
    {
     "name": "stdout",
     "output_type": "stream",
     "text": [
      "+--------+----------+----+-------+---------------------+\n",
      "|Store_ID|Store_Name|City|Country|total_countof_storeid|\n",
      "+--------+----------+----+-------+---------------------+\n",
      "+--------+----------+----+-------+---------------------+\n",
      "\n"
     ]
    }
   ],
   "source": [
    "# checking for duplicates\n",
    "stores.groupby(['Store_ID','Store_Name','City','Country']).agg(count('Store_id').alias('total_countof_storeid')).filter('total_countof_storeid>1').show()"
   ]
  },
  {
   "cell_type": "markdown",
   "id": "860655e2-415e-45ed-b2af-d3073997d508",
   "metadata": {},
   "source": [
    "# warranty"
   ]
  },
  {
   "cell_type": "code",
   "execution_count": 13,
   "id": "9c7c99d3-1ef7-4908-b101-c471534237a2",
   "metadata": {},
   "outputs": [
    {
     "name": "stdout",
     "output_type": "stream",
     "text": [
      "+--------+----------+---------+-------------+\n",
      "|claim_id|claim_date|  sale_id|repair_status|\n",
      "+--------+----------+---------+-------------+\n",
      "|CL-58750|2024-01-30|  YG-8782|    Completed|\n",
      "| CL-8874|2024-06-25|QX-999001|      Pending|\n",
      "|CL-14486|2024-08-13| JG-46890|      Pending|\n",
      "|CL-42187|2024-09-19|  XJ-1731|      Pending|\n",
      "|CL-37590|2024-09-16| FG-95080|    Completed|\n",
      "|CL-30514|2024-09-05|  II-3954|      Pending|\n",
      "|CL-47122|2024-07-07|  ES-7238|    Completed|\n",
      "| CL-5722|2024-03-10|YO-701453|  In Progress|\n",
      "|CL-75561|2024-01-24| JB-46303|    Completed|\n",
      "| CL-3634|2024-10-26|  QY-9761|  In Progress|\n",
      "| CL-8719|2024-07-14|  RR-9679|     Rejected|\n",
      "|CL-49704|2024-04-03|PT-825391|     Rejected|\n",
      "|CL-35213|2024-01-23|  JY-9420|    Completed|\n",
      "|CL-27667|2024-10-06|  WB-9150|      Pending|\n",
      "| CL-7124|2024-01-04|UN-941274|    Completed|\n",
      "| CL-3763|2024-02-19|KL-629620|    Completed|\n",
      "| CL-6383|2024-02-05|  LH-1755|      Pending|\n",
      "| CL-6345|2024-04-16|LK-385613|  In Progress|\n",
      "|CL-78615|2024-11-09| JM-75607|    Completed|\n",
      "|CL-29490|2024-03-14| UJ-07947|    Completed|\n",
      "+--------+----------+---------+-------------+\n",
      "only showing top 20 rows\n",
      "\n"
     ]
    }
   ],
   "source": [
    "store_schema = StructType([\n",
    "    StructField(\"claim_id\", StringType(), True),\n",
    "    StructField(\"claim_date\", StringType(), True),\n",
    "    StructField(\"sale_id\", StringType(), True),\n",
    "    StructField(\"repair_status\", StringType(), True)\n",
    "])\n",
    "warranty=spark.read.csv('warranty.csv',schema=store_schema,header=True)\n",
    "warranty = warranty.withColumn(\"claim_date\", to_date(\"claim_date\",\"dd-MM-yyyy\"))\n",
    "warranty.show()\n"
   ]
  },
  {
   "cell_type": "code",
   "execution_count": 14,
   "id": "a5ed5f0b-1cd3-4730-a998-637fdd9adb2d",
   "metadata": {},
   "outputs": [
    {
     "name": "stdout",
     "output_type": "stream",
     "text": [
      "+--------+----------+-------+-------------+\n",
      "|claim_id|claim_date|sale_id|repair_status|\n",
      "+--------+----------+-------+-------------+\n",
      "|       0|         0|      0|            0|\n",
      "+--------+----------+-------+-------------+\n",
      "\n"
     ]
    }
   ],
   "source": [
    "# checking Missing Value in warranty dataset\n",
    "warranty.select([sum(col(c).isNull().cast('int')).alias(c) for c in warranty.columns]).show()"
   ]
  },
  {
   "cell_type": "code",
   "execution_count": 15,
   "id": "5e12a11e-9233-4fed-9593-2093cb025f3f",
   "metadata": {},
   "outputs": [
    {
     "name": "stdout",
     "output_type": "stream",
     "text": [
      "+--------+----------+-------+-------------+-------------+\n",
      "|claim_id|claim_date|sale_id|repair_status|no_of_claimid|\n",
      "+--------+----------+-------+-------------+-------------+\n",
      "+--------+----------+-------+-------------+-------------+\n",
      "\n"
     ]
    }
   ],
   "source": [
    "# checking for duplicate in warranty\n",
    "warranty.groupby(['claim_id','claim_date','sale_id','repair_status']).agg(count('claim_date').alias('no_of_claimid')).filter('no_of_claimid>1').show()"
   ]
  },
  {
   "cell_type": "code",
   "execution_count": 16,
   "id": "f8f56775-62ae-4ec7-9c42-9cc78fc05a72",
   "metadata": {},
   "outputs": [
    {
     "data": {
      "text/plain": [
       "75"
      ]
     },
     "execution_count": 16,
     "metadata": {},
     "output_type": "execute_result"
    }
   ],
   "source": [
    "# total no of stores\n",
    "stores.count()"
   ]
  },
  {
   "cell_type": "code",
   "execution_count": 17,
   "id": "c70ca08e-9b99-45ad-b4e3-b1da9df896b6",
   "metadata": {},
   "outputs": [
    {
     "data": {
      "text/plain": [
       "89"
      ]
     },
     "execution_count": 17,
     "metadata": {},
     "output_type": "execute_result"
    }
   ],
   "source": [
    "# total no of products\n",
    "products.count()"
   ]
  },
  {
   "cell_type": "code",
   "execution_count": 18,
   "id": "653f00c8-fe8b-4515-8055-cad4ec6b04b2",
   "metadata": {},
   "outputs": [
    {
     "data": {
      "text/plain": [
       "10"
      ]
     },
     "execution_count": 18,
     "metadata": {},
     "output_type": "execute_result"
    }
   ],
   "source": [
    "# total no of products category\n",
    "category.count()"
   ]
  },
  {
   "cell_type": "code",
   "execution_count": 19,
   "id": "9cf5d4de-a14e-4e59-9e09-26f46b119fd2",
   "metadata": {},
   "outputs": [
    {
     "name": "stdout",
     "output_type": "stream",
     "text": [
      "+----------+\n",
      "|Product_ID|\n",
      "+----------+\n",
      "|      P-53|\n",
      "|      P-75|\n",
      "|      P-56|\n",
      "|      P-88|\n",
      "|      P-23|\n",
      "|       P-7|\n",
      "|      P-55|\n",
      "|      P-12|\n",
      "|      P-78|\n",
      "|       P-1|\n",
      "|      P-35|\n",
      "|      P-57|\n",
      "|      P-18|\n",
      "|      P-69|\n",
      "|      P-28|\n",
      "|      P-19|\n",
      "|      P-64|\n",
      "|      P-74|\n",
      "|      P-45|\n",
      "|      P-22|\n",
      "+----------+\n",
      "only showing top 20 rows\n",
      "\n"
     ]
    }
   ],
   "source": [
    "# Ensure sale_date >= launch_date\n",
    "\n",
    "prosal_join=sales.join(products,'Product_ID')\n",
    "prosal_join.filter(col('Sale_date') < col('Launch_Date')) \\\n",
    "           .select('Product_ID') \\\n",
    "           .distinct() \\\n",
    "           .show()"
   ]
  },
  {
   "cell_type": "code",
   "execution_count": 20,
   "id": "b2e850c9-1921-4db0-99a9-c81909664b4d",
   "metadata": {},
   "outputs": [
    {
     "name": "stdout",
     "output_type": "stream",
     "text": [
      "+--------------------+----------+---------+\n",
      "|        product_name|product_id|  Revenue|\n",
      "+--------------------+----------+---------+\n",
      "|            Mac Mini|      P-65| 35880750|\n",
      "|MacBook Pro (Touc...|       P-9| 83053064|\n",
      "|   Beats Studio Buds|      P-16| 48555402|\n",
      "|iPad mini (5th Ge...|      P-25|123951136|\n",
      "|      iPhone 14 Plus|      P-33| 81068269|\n",
      "|    iPad Pro 11-inch|      P-28|114056448|\n",
      "|          Mac Studio|      P-64| 39241808|\n",
      "|   iPhone 12 Pro Max|      P-44| 35010752|\n",
      "|           Apple TV+|      P-69| 25897612|\n",
      "|iPad (10th Genera...|      P-22|111919645|\n",
      "|Silicone Case for...|      P-85| 78559250|\n",
      "|       iPhone 12 Pro|      P-43| 84240024|\n",
      "|Apple Pencil (1st...|      P-80| 58706975|\n",
      "|Apple Watch Series 5|      P-53| 83695680|\n",
      "|       iPhone 13 Pro|      P-38| 19622988|\n",
      "| MacBook Pro 13-inch|       P-4| 86110038|\n",
      "|Smart Keyboard Folio|      P-82| 36523916|\n",
      "|MacBook (Early 2015)|      P-10| 47412885|\n",
      "|Apple Watch Series 7|      P-51| 94072509|\n",
      "| MacBook Pro 16-inch|       P-6| 76757616|\n",
      "+--------------------+----------+---------+\n",
      "only showing top 20 rows\n",
      "\n"
     ]
    }
   ],
   "source": [
    "# Total Revenue\n",
    "product_sales_join=products.join(sales,'product_id')\n",
    "revenue=product_sales_join.groupby(['product_name','product_id']).agg(sum(col('Price')*col('quantity')).alias('Revenue'))\n",
    "revenue.show()"
   ]
  },
  {
   "cell_type": "code",
   "execution_count": 21,
   "id": "663203b9-4d65-467a-a634-69bd22f0c61f",
   "metadata": {},
   "outputs": [
    {
     "name": "stdout",
     "output_type": "stream",
     "text": [
      "+----------+----------------+\n",
      "|product_id|total_units_sold|\n",
      "+----------+----------------+\n",
      "|      P-53|           64580|\n",
      "|      P-75|           64807|\n",
      "|      P-56|           64524|\n",
      "|      P-88|           64736|\n",
      "|      P-23|           63597|\n",
      "|      P-55|           64035|\n",
      "|       P-7|           64422|\n",
      "|      P-12|           64102|\n",
      "|      P-78|           64417|\n",
      "|       P-1|           63980|\n",
      "|      P-35|           64227|\n",
      "|      P-57|           64115|\n",
      "|      P-18|           63487|\n",
      "|      P-69|           64103|\n",
      "|      P-28|           64768|\n",
      "|      P-19|           63396|\n",
      "|      P-64|           64016|\n",
      "|      P-74|           65623|\n",
      "|      P-45|           65481|\n",
      "|      P-22|           64507|\n",
      "+----------+----------------+\n",
      "only showing top 20 rows\n",
      "\n"
     ]
    }
   ],
   "source": [
    "#Total Units Sold\n",
    "sales.groupby('product_id').agg(sum('quantity').alias('total_units_sold')).show()"
   ]
  },
  {
   "cell_type": "code",
   "execution_count": 22,
   "id": "31341319-18d2-449a-918c-764228ac7841",
   "metadata": {},
   "outputs": [
    {
     "name": "stdout",
     "output_type": "stream",
     "text": [
      "+----------+-----------+---------------------+\n",
      "|product_id|category_id|average_selling_price|\n",
      "+----------+-----------+---------------------+\n",
      "|      P-89|     CAT-10|               1434.0|\n",
      "|      P-50|      CAT-5|               1631.0|\n",
      "|      P-66|      CAT-7|                874.0|\n",
      "|      P-69|      CAT-8|                404.0|\n",
      "|      P-47|      CAT-5|               1546.0|\n",
      "|      P-25|      CAT-3|               1912.0|\n",
      "|      P-56|      CAT-6|                477.0|\n",
      "|      P-38|      CAT-4|                308.0|\n",
      "|      P-39|      CAT-4|                820.0|\n",
      "|      P-64|      CAT-7|                613.0|\n",
      "|      P-17|      CAT-2|               1839.0|\n",
      "|      P-75|      CAT-9|                266.0|\n",
      "|      P-88|     CAT-10|                677.0|\n",
      "|      P-78|     CAT-10|                313.0|\n",
      "|      P-23|      CAT-3|               1949.0|\n",
      "|      P-86|     CAT-10|               1389.0|\n",
      "|      P-35|      CAT-4|                678.0|\n",
      "|      P-81|     CAT-10|               1506.0|\n",
      "|      P-84|     CAT-10|                866.0|\n",
      "|      P-18|      CAT-2|               1773.0|\n",
      "+----------+-----------+---------------------+\n",
      "only showing top 20 rows\n",
      "\n"
     ]
    }
   ],
   "source": [
    "#Average Selling Price (ASP) per product and category.\n",
    "prosal_join=sales.join(products,'Product_ID')\n",
    "prosal_join.groupby(['product_id','category_id']).agg(avg('price').alias('average_selling_price')).show()"
   ]
  },
  {
   "cell_type": "code",
   "execution_count": 23,
   "id": "c396f4c6-8924-4198-b045-921585a4e1ae",
   "metadata": {},
   "outputs": [
    {
     "name": "stdout",
     "output_type": "stream",
     "text": [
      "+----------+---------+\n",
      "|product_id|  revenue|\n",
      "+----------+---------+\n",
      "|      P-68|125453460|\n",
      "|      P-58|124006372|\n",
      "|      P-25|123951136|\n",
      "|      P-23|123950553|\n",
      "|      P-17|118449990|\n",
      "|       P-8|118110109|\n",
      "|      P-12|118075884|\n",
      "|      P-31|116029518|\n",
      "|      P-28|114056448|\n",
      "|       P-2|113204453|\n",
      "+----------+---------+\n",
      "\n"
     ]
    }
   ],
   "source": [
    "# Top 10 Products by revenue \n",
    "top_10_products=revenue.select('product_id','revenue').orderBy(col('Revenue').desc())\n",
    "top_10_products.limit(10).show()\n",
    "\n"
   ]
  },
  {
   "cell_type": "code",
   "execution_count": 24,
   "id": "af0e56db-5d2d-427e-ab8b-e11ca053af19",
   "metadata": {},
   "outputs": [
    {
     "name": "stdout",
     "output_type": "stream",
     "text": [
      "+-----------+---------+\n",
      "|category_id|  Revenue|\n",
      "+-----------+---------+\n",
      "|      CAT-3|953443623|\n",
      "|     CAT-10|927115953|\n",
      "|      CAT-4|865147932|\n",
      "|      CAT-2|794980579|\n",
      "|      CAT-1|763382551|\n",
      "+-----------+---------+\n",
      "\n"
     ]
    }
   ],
   "source": [
    "#Top 5 Categories  by revenue \n",
    "product_sales_join=products.join(sales,'product_id')\n",
    "revenue_by_category=product_sales_join.groupby('category_id').agg(sum(col('Price')*col('quantity')).alias('Revenue')).orderBy(col('Revenue').desc())\n",
    "revenue_by_category.limit(5).show()"
   ]
  },
  {
   "cell_type": "code",
   "execution_count": 25,
   "id": "5066a37f-f114-49d3-9653-fd489b1c673d",
   "metadata": {},
   "outputs": [
    {
     "name": "stdout",
     "output_type": "stream",
     "text": [
      "+--------+--------+\n",
      "|store_id| revenue|\n",
      "+--------+--------+\n",
      "|   ST-30|84478026|\n",
      "|   ST-56|83830993|\n",
      "|   ST-44|83706593|\n",
      "|   ST-73|83702690|\n",
      "|   ST-34|83576408|\n",
      "+--------+--------+\n",
      "\n"
     ]
    }
   ],
   "source": [
    "#Top 5 Stores  by revenu\n",
    "product_sales_join.join(stores,'store_id').groupby('store_id')\\\n",
    ".agg(sum(col('price')*col('quantity')).alias('revenue'))\\\n",
    ".orderBy(col('revenue').desc()).limit(5).show()"
   ]
  },
  {
   "cell_type": "code",
   "execution_count": 26,
   "id": "9f42d319-9b5f-423a-ad2f-b5021983f1de",
   "metadata": {},
   "outputs": [
    {
     "name": "stdout",
     "output_type": "stream",
     "text": [
      "+-----------+---------+\n",
      "|       city|  revenue|\n",
      "+-----------+---------+\n",
      "|      Dubai|329415320|\n",
      "|     London|328969720|\n",
      "|      Paris|325659768|\n",
      "|   New York|249137133|\n",
      "|  Melbourne|247980340|\n",
      "|      Tokyo|246179087|\n",
      "|Mexico City|245375347|\n",
      "|  Singapore|244923010|\n",
      "|    Bangkok|244917957|\n",
      "|      Seoul|166244072|\n",
      "+-----------+---------+\n",
      "\n"
     ]
    }
   ],
   "source": [
    "# top 10  city by revenue\n",
    "top_10_city_by_revenue=product_sales_join.join(stores,'store_id').groupby('city').agg(sum(col('price')*col('quantity'))\\\n",
    ".alias('revenue')).orderBy(col('revenue').desc())\n",
    "top_10_city_by_revenue.limit(10).show()"
   ]
  },
  {
   "cell_type": "code",
   "execution_count": 27,
   "id": "abe8f9b7-516b-40d4-9721-b8ba9a0d7946",
   "metadata": {},
   "outputs": [
    {
     "name": "stdout",
     "output_type": "stream",
     "text": [
      "+--------------+----------+\n",
      "|       country|   revenue|\n",
      "+--------------+----------+\n",
      "| United States|1234842804|\n",
      "|     Australia| 577191700|\n",
      "|         China| 575151496|\n",
      "|         Japan| 495948710|\n",
      "|           UAE| 412424721|\n",
      "|        Canada| 410740833|\n",
      "|United Kingdom| 328969720|\n",
      "|        France| 325659768|\n",
      "|       Germany| 248821585|\n",
      "|        Mexico| 245375347|\n",
      "+--------------+----------+\n",
      "\n"
     ]
    }
   ],
   "source": [
    "# top 10  country by revenue\n",
    "top_10_country_by_revenue=product_sales_join.join(stores,'store_id').groupby('country').agg(sum(col('price')*col('quantity'))\\\n",
    ".alias('revenue')).orderBy(col('revenue').desc())\n",
    "top_10_country_by_revenue.limit(10).show()"
   ]
  },
  {
   "cell_type": "code",
   "execution_count": 28,
   "id": "cca0e8d4-1e0c-4228-b133-8a59ad025f79",
   "metadata": {},
   "outputs": [
    {
     "name": "stdout",
     "output_type": "stream",
     "text": [
      "+-----+---------+\n",
      "|month|  revenue|\n",
      "+-----+---------+\n",
      "|    3|542790865|\n",
      "|    1|539339571|\n",
      "|    8|536711821|\n",
      "|    5|536469161|\n",
      "|   10|536190097|\n",
      "|    7|534938767|\n",
      "|    4|522063998|\n",
      "|    6|521085473|\n",
      "|    9|518731293|\n",
      "|    2|491218827|\n",
      "|   11|461412527|\n",
      "|   12|425340630|\n",
      "+-----+---------+\n",
      "\n"
     ]
    }
   ],
   "source": [
    "# Monthly Revenue Trend.\n",
    "Monthly_Revenue_Trend=product_sales_join.groupby(month('sale_date').alias('month')).agg(sum(col('price')*col('quantity'))\\\n",
    ".alias('revenue')).orderBy(col('revenue').desc())\n",
    "Monthly_Revenue_Trend.show()"
   ]
  },
  {
   "cell_type": "code",
   "execution_count": 29,
   "id": "30762843-ff6c-4e20-8f06-998a2b2d812f",
   "metadata": {},
   "outputs": [
    {
     "name": "stdout",
     "output_type": "stream",
     "text": [
      "root\n",
      " |-- Product_ID: string (nullable = true)\n",
      " |-- Product_Name: string (nullable = true)\n",
      " |-- Category_ID: string (nullable = true)\n",
      " |-- launch_date: date (nullable = true)\n",
      " |-- Price: integer (nullable = true)\n",
      "\n"
     ]
    }
   ],
   "source": [
    "products.printSchema()"
   ]
  },
  {
   "cell_type": "markdown",
   "id": "c833322a-7dec-4d53-92b6-750248465d72",
   "metadata": {},
   "source": [
    "# phase 3"
   ]
  },
  {
   "cell_type": "code",
   "execution_count": 30,
   "id": "5d2967fb-b2ab-4546-9ba8-2c3cb4092b88",
   "metadata": {},
   "outputs": [
    {
     "name": "stdout",
     "output_type": "stream",
     "text": [
      "+--------------------+-----------+---------+\n",
      "|       category_name|category_id|  revenue|\n",
      "+--------------------+-----------+---------+\n",
      "|          Smartphone|      CAT-4|865147932|\n",
      "|       Smart Speaker|      CAT-9| 96117508|\n",
      "|Subscription Service|      CAT-8|368463489|\n",
      "|              Tablet|      CAT-3|953443623|\n",
      "|            Wearable|      CAT-5|667537447|\n",
      "|              Laptop|      CAT-1|763382551|\n",
      "|    Streaming Device|      CAT-6|191622603|\n",
      "|         Accessories|     CAT-10|927115953|\n",
      "|             Desktop|      CAT-7|538481345|\n",
      "|               Audio|      CAT-2|794980579|\n",
      "+--------------------+-----------+---------+\n",
      "\n"
     ]
    }
   ],
   "source": [
    "product_sales_join.join(category,'category_id').groupby(['category_name','category_id'])\\\n",
    ".agg(sum(col('price')*col('quantity')).alias('revenue')).show()"
   ]
  },
  {
   "cell_type": "code",
   "execution_count": 31,
   "id": "b48f6cbf-b505-4930-90a8-a401ae405b3e",
   "metadata": {},
   "outputs": [
    {
     "name": "stdout",
     "output_type": "stream",
     "text": [
      "+----------+--------------------+------------------+\n",
      "|product_id|        product_name|total_no_of_claims|\n",
      "+----------+--------------------+------------------+\n",
      "|       P-9|MacBook Pro (Touc...|               381|\n",
      "|      P-39|   iPhone 13 Pro Max|               372|\n",
      "|      P-17|       Beats Fit Pro|               370|\n",
      "|      P-83|Smart Cover for iPad|               370|\n",
      "|      P-69|           Apple TV+|               368|\n",
      "|      P-38|       iPhone 13 Pro|               367|\n",
      "|      P-45|Apple Watch Series 9|               367|\n",
      "|      P-87|     MagSafe Charger|               366|\n",
      "|      P-74|             HomePod|               365|\n",
      "|      P-24|iPad mini (6th Ge...|               362|\n",
      "|      P-30|       iPad Pro (M1)|               362|\n",
      "|      P-16|   Beats Studio Buds|               361|\n",
      "|      P-27|iPad Air (4th Gen...|               361|\n",
      "|      P-32|           iPhone 14|               359|\n",
      "|      P-65|            Mac Mini|               359|\n",
      "|      P-20|HomePod (2nd Gene...|               359|\n",
      "|      P-29|  iPad Pro 12.9-inch|               358|\n",
      "|      P-63|      Mac Pro (Rack)|               357|\n",
      "|      P-78|         Magic Mouse|               356|\n",
      "|      P-73|           Apple One|               355|\n",
      "+----------+--------------------+------------------+\n",
      "only showing top 20 rows\n",
      "\n"
     ]
    }
   ],
   "source": [
    "# Warranty Claim Rate per Product\n",
    "sale_warranty_join=sales.join(warranty,'sale_id')\n",
    "sale_warranty_join.join(products,'product_id').groupby(['product_id','product_name'])\\\n",
    ".agg(count('claim_id').alias('total_no_of_claims')).orderBy(col('total_no_of_claims').desc()).show()"
   ]
  },
  {
   "cell_type": "code",
   "execution_count": 32,
   "id": "feca6e6b-a703-4777-bfcf-a4e49f3c72ed",
   "metadata": {},
   "outputs": [
    {
     "name": "stdout",
     "output_type": "stream",
     "text": [
      "+-------------+---------------------------------+\n",
      "|repair_status|((count(claim_id) / 30000) * 100)|\n",
      "+-------------+---------------------------------+\n",
      "|    Completed|               24.886666666666667|\n",
      "|     Rejected|               24.523333333333333|\n",
      "|  In Progress|               25.369999999999997|\n",
      "|      Pending|                            25.22|\n",
      "+-------------+---------------------------------+\n",
      "\n"
     ]
    }
   ],
   "source": [
    "# Repair Status Breakdown (% repaired, open, replaced)\n",
    "total_no_of_claims=warranty.count()\n",
    "warranty.groupby('repair_status').agg((count('claim_id')/total_no_of_claims)*100).show()"
   ]
  },
  {
   "cell_type": "code",
   "execution_count": 33,
   "id": "e8065fde-6984-4b1b-8d09-5afdd2dad9bb",
   "metadata": {},
   "outputs": [
    {
     "name": "stdout",
     "output_type": "stream",
     "text": [
      "+---------+----------+--------+----------+--------+--------+----------+-------------+------------------+\n",
      "|  sale_id| sale_date|store_id|product_id|quantity|claim_id|claim_date|repair_status|time_took_to_claim|\n",
      "+---------+----------+--------+----------+--------+--------+----------+-------------+------------------+\n",
      "|  YG-8782|2023-06-16|   ST-10|      P-38|      10|CL-58750|2024-01-30|    Completed|        -7.4516129|\n",
      "|QX-999001|2022-04-13|   ST-63|      P-48|      10| CL-8874|2024-06-25|      Pending|      -26.38709677|\n",
      "| JG-46890|2021-07-05|   ST-26|      P-79|       5|CL-14486|2024-08-13|      Pending|      -37.25806452|\n",
      "|  XJ-1731|2022-07-20|   ST-15|      P-24|       9|CL-42187|2024-09-19|      Pending|      -25.96774194|\n",
      "| FG-95080|2022-03-18|   ST-35|      P-69|       7|CL-37590|2024-09-16|    Completed|      -29.93548387|\n",
      "|  II-3954|2024-04-19|   ST-28|      P-45|      10|CL-30514|2024-09-05|      Pending|        -4.5483871|\n",
      "|  ES-7238|2020-05-11|    ST-3|      P-24|       6|CL-47122|2024-07-07|    Completed|      -49.87096774|\n",
      "|YO-701453|2023-03-27|   ST-73|       P-9|       7| CL-5722|2024-03-10|  In Progress|       -11.4516129|\n",
      "| JB-46303|2024-08-31|   ST-14|      P-29|       5|CL-75561|2024-01-24|    Completed|        7.22580645|\n",
      "|  QY-9761|2021-07-14|   ST-44|      P-24|       1| CL-3634|2024-10-26|  In Progress|      -39.38709677|\n",
      "|  RR-9679|2021-11-15|   ST-58|      P-54|       9| CL-8719|2024-07-14|     Rejected|      -31.96774194|\n",
      "|PT-825391|2021-08-10|    ST-7|      P-62|       8|CL-49704|2024-04-03|     Rejected|      -31.77419355|\n",
      "|  JY-9420|2020-05-14|   ST-62|      P-47|       9|CL-35213|2024-01-23|    Completed|      -44.29032258|\n",
      "|  WB-9150|2022-11-04|   ST-18|      P-57|       7|CL-27667|2024-10-06|      Pending|      -23.06451613|\n",
      "|UN-941274|2023-10-27|   ST-10|      P-87|       4| CL-7124|2024-01-04|    Completed|       -2.25806452|\n",
      "|KL-629620|2021-05-29|   ST-70|      P-52|       7| CL-3763|2024-02-19|    Completed|      -32.67741935|\n",
      "|  LH-1755|2021-08-28|   ST-34|      P-36|       3| CL-6383|2024-02-05|      Pending|      -29.25806452|\n",
      "|LK-385613|2021-07-21|   ST-17|      P-14|       6| CL-6345|2024-04-16|  In Progress|      -32.83870968|\n",
      "| JM-75607|2024-10-27|   ST-69|      P-12|       1|CL-78615|2024-11-09|    Completed|       -0.41935484|\n",
      "| UJ-07947|2024-05-08|   ST-20|       P-4|       6|CL-29490|2024-03-14|    Completed|        1.80645161|\n",
      "+---------+----------+--------+----------+--------+--------+----------+-------------+------------------+\n",
      "only showing top 20 rows\n",
      "\n"
     ]
    }
   ],
   "source": [
    "# Time-to-Claim Analysis\n",
    "sale_warranty_join.withColumn('time_took_to_claim',months_between('sale_date','claim_date')).show()\n"
   ]
  },
  {
   "cell_type": "code",
   "execution_count": 34,
   "id": "301f018e-1ab7-4c81-acd9-479ff633e95c",
   "metadata": {},
   "outputs": [
    {
     "name": "stdout",
     "output_type": "stream",
     "text": [
      "+--------------------+--------+\n",
      "|        product_name| revenue|\n",
      "+--------------------+--------+\n",
      "|              iCloud|60817957|\n",
      "|        HomePod mini|20674680|\n",
      "|AirPods (3rd Gene...|85765362|\n",
      "|MacBook (Early 2015)|20101848|\n",
      "|            iMac Pro|46125189|\n",
      "|   Apple Watch Ultra| 1340404|\n",
      "|           Apple TV+|  604788|\n",
      "|Beats Powerbeats Pro|55104100|\n",
      "|HomePod (2nd Gene...|38402104|\n",
      "|         AirPods Max|49002107|\n",
      "|      Magic Keyboard|21906304|\n",
      "|    MacBook Air (M1)|25131385|\n",
      "|   iPhone 14 Pro Max| 1681440|\n",
      "|Apple Watch Nike ...|52409708|\n",
      "|iMac with Retina ...|20192410|\n",
      "|Leather Case for ...|28944318|\n",
      "|        Apple Arcade| 1817190|\n",
      "|           Apple One|29110176|\n",
      "|       iPhone 12 Pro| 6259088|\n",
      "|             MacBook|18978033|\n",
      "+--------------------+--------+\n",
      "only showing top 20 rows\n",
      "\n"
     ]
    }
   ],
   "source": [
    "# Product Launch Impact → revenue in first 30,\n",
    "\n",
    "product_sales_join.filter(datediff('Launch_Date','sale_date')<=30).groupby('product_name').agg(sum(col('price')*col('quantity')).alias('revenue')).show()"
   ]
  },
  {
   "cell_type": "code",
   "execution_count": 35,
   "id": "6e092455-5bca-4a91-a56d-32bdcf7d47cd",
   "metadata": {},
   "outputs": [
    {
     "name": "stdout",
     "output_type": "stream",
     "text": [
      "+--------------------+--------+\n",
      "|        product_name| revenue|\n",
      "+--------------------+--------+\n",
      "|              iCloud|62125324|\n",
      "|        HomePod mini|21482402|\n",
      "|AirPods (3rd Gene...|87695778|\n",
      "|MacBook (Early 2015)|20808021|\n",
      "|            iMac Pro|47322937|\n",
      "|   Apple Watch Ultra| 1678446|\n",
      "|           Apple TV+| 1049996|\n",
      "|Beats Powerbeats Pro|56153500|\n",
      "|HomePod (2nd Gene...|39057343|\n",
      "|         AirPods Max|50712508|\n",
      "|      Magic Keyboard|22347168|\n",
      "|    MacBook Air (M1)|27062374|\n",
      "|   iPhone 14 Pro Max| 2445546|\n",
      "|Apple Watch Nike ...|53352052|\n",
      "|iMac with Retina ...|20529236|\n",
      "|Leather Case for ...|30030282|\n",
      "|        Apple Arcade| 2367837|\n",
      "|           Apple One|29666496|\n",
      "|       iPhone 12 Pro| 7402472|\n",
      "|             MacBook|20230443|\n",
      "+--------------------+--------+\n",
      "only showing top 20 rows\n",
      "\n"
     ]
    }
   ],
   "source": [
    "# Product Launch Impact → revenue in first 60\n",
    "product_sales_join.filter(datediff('Launch_Date','sale_date')<=60).groupby('product_name').agg(sum(col('price')*col('quantity')).alias('revenue')).show()"
   ]
  },
  {
   "cell_type": "code",
   "execution_count": 36,
   "id": "7a2a36d4-5bc0-48cf-b275-916fdb41b147",
   "metadata": {},
   "outputs": [
    {
     "name": "stdout",
     "output_type": "stream",
     "text": [
      "+--------------------+--------+\n",
      "|        product_name| revenue|\n",
      "+--------------------+--------+\n",
      "|              iCloud|63500008|\n",
      "|        HomePod mini|22189694|\n",
      "|AirPods (3rd Gene...|89663034|\n",
      "|MacBook (Early 2015)|21581625|\n",
      "|            iMac Pro|48315295|\n",
      "|   Apple Watch Ultra| 2069080|\n",
      "|           Apple TV+| 1500052|\n",
      "|Beats Powerbeats Pro|57262260|\n",
      "|HomePod (2nd Gene...|39866229|\n",
      "|         AirPods Max|52413291|\n",
      "|      Magic Keyboard|22722160|\n",
      "|    MacBook Air (M1)|28989797|\n",
      "|   iPhone 14 Pro Max| 3147276|\n",
      "|Apple Watch Nike ...|54291744|\n",
      "|iMac with Retina ...|20928145|\n",
      "|Leather Case for ...|31117112|\n",
      "|        Apple Arcade| 2970639|\n",
      "|           Apple One|30181336|\n",
      "|       iPhone 12 Pro| 8964560|\n",
      "|             MacBook|21464469|\n",
      "+--------------------+--------+\n",
      "only showing top 20 rows\n",
      "\n"
     ]
    }
   ],
   "source": [
    "# Product Launch Impact → revenue in first 90\n",
    "product_sales_join.filter(datediff('Launch_Date','sale_date')<=90).groupby('product_name').agg(sum(col('price')*col('quantity')).alias('revenue')).show()"
   ]
  }
 ],
 "metadata": {
  "kernelspec": {
   "display_name": "Python (PySpark)",
   "language": "python",
   "name": "pyspark_env"
  },
  "language_info": {
   "codemirror_mode": {
    "name": "ipython",
    "version": 3
   },
   "file_extension": ".py",
   "mimetype": "text/x-python",
   "name": "python",
   "nbconvert_exporter": "python",
   "pygments_lexer": "ipython3",
   "version": "3.12.4"
  }
 },
 "nbformat": 4,
 "nbformat_minor": 5
}
