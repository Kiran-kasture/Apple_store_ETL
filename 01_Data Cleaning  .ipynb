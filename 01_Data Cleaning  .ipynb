{
 "cells": [
  {
   "cell_type": "code",
   "execution_count": 1,
   "id": "614b3d4e-882f-4078-a7aa-c7c3d3d3cc73",
   "metadata": {},
   "outputs": [],
   "source": [
    "import pyspark\n",
    "from pyspark.sql import *\n",
    "from pyspark.sql import SparkSession\n",
    "from pyspark.sql.types import *\n",
    "from pyspark.sql.functions import *\n",
    "import pandas as pd\n",
    "import matplotlib.pyplot as plt\n",
    "import seaborn as sns\n",
    "\n",
    "spark=SparkSession.builder.appName('Apple DataSet').getOrCreate()\n",
    "spark.conf.set(\"spark.sql.legacy.timeParserPolicy\", \"LEGACY\")"
   ]
  },
  {
   "cell_type": "markdown",
   "id": "ca02987f-3198-4aa6-93b1-3ecdbcd0a3b4",
   "metadata": {},
   "source": [
    "# Products "
   ]
  },
  {
   "cell_type": "code",
   "execution_count": 2,
   "id": "bdc58573-9f74-4476-852c-a5380a54c762",
   "metadata": {},
   "outputs": [
    {
     "name": "stdout",
     "output_type": "stream",
     "text": [
      "+----------+--------------------+-----------+-----------+-----+\n",
      "|Product_ID|        Product_Name|Category_ID|launch_date|Price|\n",
      "+----------+--------------------+-----------+-----------+-----+\n",
      "|       P-1|             MacBook|      CAT-1| 2022-07-25|  717|\n",
      "|       P-2|    MacBook Air (M1)|      CAT-1| 2022-02-24|  618|\n",
      "|       P-3|    MacBook Air (M2)|      CAT-1| 2022-04-06|  644|\n",
      "|       P-4| MacBook Pro 13-inch|      CAT-1| 2025-08-01| 1444|\n",
      "|       P-5| MacBook Pro 14-inch|      CAT-1| 2023-05-07|  906|\n",
      "|       P-6|   AirPods (2nd Gen)|      CAT-2| 2024-09-09| 1501|\n",
      "|       P-7|         AirPods Pro|      CAT-2| 2020-06-08| 1705|\n",
      "|       P-8|         AirPods Max|      CAT-2| 2023-09-14| 1229|\n",
      "|       P-9|             iPad 10|      CAT-3| 2024-11-18|  205|\n",
      "|      P-10|            iPad Air|      CAT-3| 2024-05-17| 1583|\n",
      "|      P-11|            iPad Pro|      CAT-3| 2021-09-12|  991|\n",
      "|      P-12|           iPhone 14|      CAT-4| 2020-04-30| 1275|\n",
      "|      P-13|           iPhone 13|      CAT-4| 2023-04-22| 1153|\n",
      "|      P-14|           iPhone SE|      CAT-4| 2022-08-17|  509|\n",
      "|      P-15|Apple Watch Series 9|      CAT-5| 2023-09-23|  179|\n",
      "|      P-16|   Apple Watch Ultra|      CAT-5| 2023-04-20|  895|\n",
      "|      P-17|         Apple TV 4K|      CAT-6| 2021-05-03| 1994|\n",
      "|      P-18|         Apple TV HD|      CAT-6| 2022-05-22|  732|\n",
      "|      P-19|             iMac 24|      CAT-7| 2020-03-23| 1637|\n",
      "|      P-20|             Mac Pro|      CAT-7| 2021-10-25|  997|\n",
      "+----------+--------------------+-----------+-----------+-----+\n",
      "only showing top 20 rows\n",
      "\n"
     ]
    }
   ],
   "source": [
    "products_schema=StructType([StructField('Product_ID',StringType(),True),\n",
    "                           StructField('Product_Name',StringType(),True),\n",
    "                            StructField('Category_ID',StringType(),True),\n",
    "                             StructField('Launch_Date',StringType(),True),\n",
    "                             StructField('Price',IntegerType(),True)\n",
    "                            \n",
    "                           ])\n",
    "products=spark.read.csv('datasets/products.csv',schema=products_schema,header=True)\n",
    "products = products.withColumn(\"launch_date\", to_date(\"launch_date\",\"dd-MM-yyyy\"))\n",
    "\n",
    "products.show()"
   ]
  },
  {
   "cell_type": "code",
   "execution_count": 3,
   "id": "dc9ffc88-d9f3-4982-8518-6fadf224a259",
   "metadata": {},
   "outputs": [
    {
     "name": "stdout",
     "output_type": "stream",
     "text": [
      "+----------+------------+-----------+-----------+-----+\n",
      "|Product_ID|Product_Name|Category_ID|launch_date|Price|\n",
      "+----------+------------+-----------+-----------+-----+\n",
      "|         0|           0|          0|          0|    0|\n",
      "+----------+------------+-----------+-----------+-----+\n",
      "\n"
     ]
    }
   ],
   "source": [
    "# checking for missing values\n",
    "products.select([sum(col(c).isNull().cast('int')).alias(c) for c in products.columns]).show()"
   ]
  },
  {
   "cell_type": "code",
   "execution_count": 4,
   "id": "6603ba7d-4bd0-4090-8e32-7c730d7f46ee",
   "metadata": {},
   "outputs": [
    {
     "name": "stdout",
     "output_type": "stream",
     "text": [
      "+----------+------------+-----------+-------------------+\n",
      "|Product_ID|Product_Name|Category_ID|count_of_Product_ID|\n",
      "+----------+------------+-----------+-------------------+\n",
      "+----------+------------+-----------+-------------------+\n",
      "\n"
     ]
    }
   ],
   "source": [
    "# checking for duplicates\n",
    "products.groupby(['Product_ID','Product_Name','Category_ID']).agg(count('Product_ID').alias('count_of_Product_ID')).filter('count_of_Product_ID>1').show()"
   ]
  },
  {
   "cell_type": "markdown",
   "id": "75b3c615-3575-4fa2-bb2a-f7d211a786fc",
   "metadata": {},
   "source": [
    "#  category"
   ]
  },
  {
   "cell_type": "code",
   "execution_count": 5,
   "id": "75329319-a028-4fb5-b94f-ee2f6f664116",
   "metadata": {},
   "outputs": [
    {
     "name": "stdout",
     "output_type": "stream",
     "text": [
      "+-----------+--------------------+\n",
      "|category_id|       category_name|\n",
      "+-----------+--------------------+\n",
      "|      CAT-1|              Laptop|\n",
      "|      CAT-2|               Audio|\n",
      "|      CAT-3|              Tablet|\n",
      "|      CAT-4|          Smartphone|\n",
      "|      CAT-5|            Wearable|\n",
      "|      CAT-6|    Streaming Device|\n",
      "|      CAT-7|             Desktop|\n",
      "|      CAT-8|Subscription Service|\n",
      "|      CAT-9|       Smart Speaker|\n",
      "|     CAT-10|         Accessories|\n",
      "+-----------+--------------------+\n",
      "\n"
     ]
    }
   ],
   "source": [
    "category_schema=StructType([StructField('category_id',StringType(),True),\n",
    "                           StructField('category_name',StringType(),True)])\n",
    "category=spark.read.csv('datasets/category.csv',schema=category_schema,header=True)\n",
    "category.show()"
   ]
  },
  {
   "cell_type": "markdown",
   "id": "a247e920-4e83-4ff7-b5e1-7391cda0d6a8",
   "metadata": {},
   "source": [
    "# sales"
   ]
  },
  {
   "cell_type": "code",
   "execution_count": 6,
   "id": "dd5d30f1-25c0-4301-973a-352b2d5c8a42",
   "metadata": {},
   "outputs": [
    {
     "name": "stdout",
     "output_type": "stream",
     "text": [
      "root\n",
      " |-- Sales_Id: string (nullable = true)\n",
      " |-- Sale_Date: string (nullable = true)\n",
      " |-- Store_Id: string (nullable = true)\n",
      " |-- Product_Id: string (nullable = true)\n",
      " |-- Quantity: integer (nullable = true)\n",
      "\n"
     ]
    }
   ],
   "source": [
    "sales=spark.read.csv('datasets/sales.csv',inferSchema=True,header=True)\n",
    "sales.printSchema()"
   ]
  },
  {
   "cell_type": "code",
   "execution_count": 7,
   "id": "410b091a-2adb-408c-a36c-e3f98ab0165d",
   "metadata": {},
   "outputs": [
    {
     "name": "stdout",
     "output_type": "stream",
     "text": [
      "+---------+----------+--------+----------+--------+\n",
      "|  sale_id| sale_date|store_id|product_id|quantity|\n",
      "+---------+----------+--------+----------+--------+\n",
      "| EY-76191|2022-11-18|   ST-32|      P-20|       1|\n",
      "| DB-53244|2023-01-26|   ST-16|       P-6|       6|\n",
      "|BA-396172|2024-12-31|   ST-54|      P-27|       7|\n",
      "|  WD-2661|2023-05-13|   ST-45|       P-6|       2|\n",
      "|  CO-8657|2022-12-14|    ST-3|      P-27|       5|\n",
      "|RG-694960|2023-07-15|   ST-15|       P-8|       3|\n",
      "|  OS-5971|2024-12-07|   ST-70|      P-24|       3|\n",
      "|GI-100174|2023-08-24|   ST-57|      P-13|       2|\n",
      "|  ER-3186|2022-12-29|   ST-70|       P-5|       1|\n",
      "|RX-243117|2024-10-23|   ST-19|       P-7|       4|\n",
      "| IJ-94363|2024-04-06|   ST-29|      P-16|       8|\n",
      "| VV-78964|2025-01-26|   ST-25|      P-28|       1|\n",
      "|  FA-1333|2024-11-14|   ST-11|       P-6|       3|\n",
      "| IT-98790|2023-07-23|   ST-20|      P-10|       5|\n",
      "| YX-05485|2023-05-26|   ST-27|      P-17|       5|\n",
      "| JH-40146|2024-04-03|   ST-22|       P-6|       8|\n",
      "|  ES-6915|2024-05-25|    ST-7|      P-29|       4|\n",
      "|FN-667707|2022-11-07|   ST-30|      P-19|       3|\n",
      "| JY-80442|2023-08-22|   ST-61|       P-4|       1|\n",
      "|  RK-5764|2024-12-07|   ST-28|      P-16|       2|\n",
      "+---------+----------+--------+----------+--------+\n",
      "only showing top 20 rows\n",
      "\n"
     ]
    }
   ],
   "source": [
    "sales_schema = StructType([\n",
    "    StructField('sale_id', StringType(), True),\n",
    "    StructField('sale_date', StringType(), True), \n",
    "    StructField('store_id', StringType(), True),\n",
    "    StructField('product_id', StringType(), True),\n",
    "    StructField('quantity', IntegerType(), True)\n",
    "])\n",
    "spark.conf.set(\"spark.sql.legacy.timeParserPolicy\", \"LEGACY\")\n",
    "sales = spark.read.csv('datasets/sales.csv', schema=sales_schema, header=True)\n",
    "sales = sales.withColumn(\n",
    "    \"sale_date\",\n",
    "    coalesce(\n",
    "        to_date(\"sale_date\", \"dd-MM-yyyy\"),\n",
    "        to_date(\"sale_date\", \"yyyy-MM-dd\"),\n",
    "        to_date(\"sale_date\", \"MM-dd-yyyy\"),\n",
    "        to_date(\"sale_date\", \"dd/MM/yyyy\")\n",
    "    )\n",
    ")\n",
    "sales.show()"
   ]
  },
  {
   "cell_type": "code",
   "execution_count": 8,
   "id": "af324824-f136-4847-a726-15f9c92bca9f",
   "metadata": {},
   "outputs": [
    {
     "name": "stdout",
     "output_type": "stream",
     "text": [
      "+-------+---------+--------+----------+--------+\n",
      "|sale_id|sale_date|store_id|product_id|quantity|\n",
      "+-------+---------+--------+----------+--------+\n",
      "|      0|        0|       0|         0|       0|\n",
      "+-------+---------+--------+----------+--------+\n",
      "\n"
     ]
    }
   ],
   "source": [
    "# Checking Missing Data in sales data\n",
    "sales.select([sum(col(c).isNull().cast('int')).alias(c) for c in sales.columns]).show()"
   ]
  },
  {
   "cell_type": "code",
   "execution_count": 9,
   "id": "66c2f2c5-ab1b-40bb-a2f3-260a8c94d360",
   "metadata": {},
   "outputs": [
    {
     "name": "stdout",
     "output_type": "stream",
     "text": [
      "+-------+----------------+\n",
      "|sale_id|count_of_salesid|\n",
      "+-------+----------------+\n",
      "+-------+----------------+\n",
      "\n"
     ]
    }
   ],
   "source": [
    "# checking for duplicates\n",
    "sales.groupby('sale_id').agg(count('sale_id').alias('count_of_salesid')).filter('count_of_salesid>1').show()"
   ]
  },
  {
   "cell_type": "markdown",
   "id": "feb64449-6587-4d03-addf-10fe73df2407",
   "metadata": {},
   "source": [
    "# stores"
   ]
  },
  {
   "cell_type": "code",
   "execution_count": 10,
   "id": "549c04fe-1515-4962-95b7-183f439e86a9",
   "metadata": {},
   "outputs": [
    {
     "name": "stdout",
     "output_type": "stream",
     "text": [
      "+--------+--------------------+-------------+-------------+\n",
      "|Store_ID|          Store_Name|         City|      Country|\n",
      "+--------+--------------------+-------------+-------------+\n",
      "|    ST-1|  Apple Fifth Avenue|     New York|United States|\n",
      "|    ST-2|  Apple Union Square|San Francisco|United States|\n",
      "|    ST-3|Apple Michigan Av...|      Chicago|United States|\n",
      "|    ST-4|     Apple The Grove|  Los Angeles|United States|\n",
      "|    ST-5|          Apple SoHo|     New York|United States|\n",
      "|    ST-6|Apple Michigan Av...|      Chicago|United States|\n",
      "|    ST-7|     Apple The Grove|  Los Angeles|United States|\n",
      "|    ST-8|     Apple The Grove|  Los Angeles|United States|\n",
      "|    ST-9|  Apple Union Square|San Francisco|United States|\n",
      "|   ST-10|     Apple The Grove|  Los Angeles|United States|\n",
      "|   ST-11|     Apple The Grove|  Los Angeles|United States|\n",
      "|   ST-12|          Apple SoHo|     New York|United States|\n",
      "|   ST-13|     Apple The Grove|  Los Angeles|United States|\n",
      "|   ST-14|     Apple The Grove|  Los Angeles|United States|\n",
      "|   ST-15|Apple Michigan Av...|      Chicago|United States|\n",
      "|   ST-16|  Apple Fifth Avenue|     New York|United States|\n",
      "|   ST-17|Apple Michigan Av...|      Chicago|United States|\n",
      "|   ST-18|          Apple SoHo|     New York|United States|\n",
      "|   ST-19|  Apple Union Square|San Francisco|United States|\n",
      "|   ST-20|     Apple The Grove|  Los Angeles|United States|\n",
      "+--------+--------------------+-------------+-------------+\n",
      "only showing top 20 rows\n",
      "\n"
     ]
    }
   ],
   "source": [
    "store_schema = StructType([\n",
    "    StructField('Store_ID',   StringType(), True),\n",
    "    StructField('Store_Name', StringType(), True),\n",
    "    StructField('City',       StringType(), True),\n",
    "    StructField('Country',    StringType(), True)\n",
    "])\n",
    "stores = spark.read.csv('datasets/stores.csv', schema=store_schema, header=True)\n",
    "stores.show()"
   ]
  },
  {
   "cell_type": "code",
   "execution_count": 11,
   "id": "35838165-809d-4e6e-b627-59c74e60d8b0",
   "metadata": {},
   "outputs": [
    {
     "name": "stdout",
     "output_type": "stream",
     "text": [
      "+--------+----------+----+-------+\n",
      "|Store_ID|Store_Name|City|Country|\n",
      "+--------+----------+----+-------+\n",
      "|       0|         0|   0|      0|\n",
      "+--------+----------+----+-------+\n",
      "\n"
     ]
    }
   ],
   "source": [
    "#cheking missing values in stores dataset\n",
    "stores.select([sum(col(c).isNull().cast('int')).alias(c) for c in stores.columns]).show()"
   ]
  },
  {
   "cell_type": "code",
   "execution_count": 12,
   "id": "e4703807-771a-4c3c-99b1-49723c210ee3",
   "metadata": {},
   "outputs": [
    {
     "name": "stdout",
     "output_type": "stream",
     "text": [
      "+--------+----------+----+-------+---------------------+\n",
      "|Store_ID|Store_Name|City|Country|total_countof_storeid|\n",
      "+--------+----------+----+-------+---------------------+\n",
      "+--------+----------+----+-------+---------------------+\n",
      "\n"
     ]
    }
   ],
   "source": [
    "# checking for duplicates\n",
    "stores.groupby(['Store_ID','Store_Name','City','Country']).agg(count('Store_id').alias('total_countof_storeid')).filter('total_countof_storeid>1').show()"
   ]
  },
  {
   "cell_type": "markdown",
   "id": "860655e2-415e-45ed-b2af-d3073997d508",
   "metadata": {},
   "source": [
    "# warranty"
   ]
  },
  {
   "cell_type": "code",
   "execution_count": 13,
   "id": "9c7c99d3-1ef7-4908-b101-c471534237a2",
   "metadata": {},
   "outputs": [
    {
     "name": "stdout",
     "output_type": "stream",
     "text": [
      "+--------+----------+---------+-------------+\n",
      "|claim_id|claim_date|  sale_id|repair_status|\n",
      "+--------+----------+---------+-------------+\n",
      "| CL_0001|2025-04-17| DR-49575|     Rejected|\n",
      "| CL_0002|2025-01-15|FC-315363|      Pending|\n",
      "| CL_0003|2025-04-03|NG-493213|    Completed|\n",
      "| CL_0004|2025-02-05|  UL-5951|     Rejected|\n",
      "| CL_0005|2024-10-02| DT-18684|  In Progress|\n",
      "| CL_0006|2024-10-10| GE-35978|      Pending|\n",
      "| CL_0007|2025-06-15|TT-433171|      Pending|\n",
      "| CL_0008|2025-04-06| SE-11826|     Rejected|\n",
      "| CL_0009|2024-11-10|JJ-057520|  In Progress|\n",
      "| CL_0010|2025-06-05|SL-810669|     Rejected|\n",
      "| CL_0011|2024-10-11| YO-23292|    Completed|\n",
      "| CL_0012|2025-03-19| TG-72168|  In Progress|\n",
      "| CL_0013|2025-07-14|  LF-0856|     Rejected|\n",
      "| CL_0014|2025-03-17| MV-74903|     Rejected|\n",
      "| CL_0015|2025-01-11| CF-66125|     Rejected|\n",
      "| CL_0016|2024-10-18| MU-96897|      Pending|\n",
      "| CL_0017|2025-01-02|  LY-3410|  In Progress|\n",
      "| CL_0018|2025-07-23|  US-0045|      Pending|\n",
      "| CL_0019|2024-10-19|  MJ-3685|  In Progress|\n",
      "| CL_0020|2025-09-08|  IM-0052|  In Progress|\n",
      "+--------+----------+---------+-------------+\n",
      "only showing top 20 rows\n",
      "\n"
     ]
    }
   ],
   "source": [
    "store_schema = StructType([\n",
    "    StructField(\"claim_id\", StringType(), True),\n",
    "    StructField(\"claim_date\", StringType(), True),\n",
    "    StructField(\"sale_id\", StringType(), True),\n",
    "    StructField(\"repair_status\", StringType(), True)\n",
    "])\n",
    "warranty=spark.read.csv('datasets/warranty.csv',schema=store_schema,header=True)\n",
    "warranty = warranty.withColumn(\"claim_date\", to_date(\"claim_date\",\"dd-MM-yyyy\"))\n",
    "warranty.show()\n"
   ]
  },
  {
   "cell_type": "code",
   "execution_count": 14,
   "id": "a5ed5f0b-1cd3-4730-a998-637fdd9adb2d",
   "metadata": {},
   "outputs": [
    {
     "name": "stdout",
     "output_type": "stream",
     "text": [
      "+--------+----------+-------+-------------+\n",
      "|claim_id|claim_date|sale_id|repair_status|\n",
      "+--------+----------+-------+-------------+\n",
      "|       0|         0|      0|            0|\n",
      "+--------+----------+-------+-------------+\n",
      "\n"
     ]
    }
   ],
   "source": [
    "# checking Missing Value in warranty dataset\n",
    "warranty.select([sum(col(c).isNull().cast('int')).alias(c) for c in warranty.columns]).show()"
   ]
  },
  {
   "cell_type": "code",
   "execution_count": 15,
   "id": "5e12a11e-9233-4fed-9593-2093cb025f3f",
   "metadata": {},
   "outputs": [
    {
     "name": "stdout",
     "output_type": "stream",
     "text": [
      "+--------+----------+-------+-------------+-------------+\n",
      "|claim_id|claim_date|sale_id|repair_status|no_of_claimid|\n",
      "+--------+----------+-------+-------------+-------------+\n",
      "+--------+----------+-------+-------------+-------------+\n",
      "\n"
     ]
    }
   ],
   "source": [
    "# checking for duplicate in warranty\n",
    "warranty.groupby(['claim_id','claim_date','sale_id','repair_status']).agg(count('claim_date').alias('no_of_claimid')).filter('no_of_claimid>1').show()"
   ]
  },
  {
   "cell_type": "code",
   "execution_count": 16,
   "id": "f8f56775-62ae-4ec7-9c42-9cc78fc05a72",
   "metadata": {},
   "outputs": [
    {
     "data": {
      "text/plain": [
       "75"
      ]
     },
     "execution_count": 16,
     "metadata": {},
     "output_type": "execute_result"
    }
   ],
   "source": [
    "# total no of stores\n",
    "stores.count()"
   ]
  },
  {
   "cell_type": "code",
   "execution_count": 17,
   "id": "c70ca08e-9b99-45ad-b4e3-b1da9df896b6",
   "metadata": {},
   "outputs": [
    {
     "data": {
      "text/plain": [
       "29"
      ]
     },
     "execution_count": 17,
     "metadata": {},
     "output_type": "execute_result"
    }
   ],
   "source": [
    "# total no of products\n",
    "products.count()"
   ]
  },
  {
   "cell_type": "code",
   "execution_count": 18,
   "id": "653f00c8-fe8b-4515-8055-cad4ec6b04b2",
   "metadata": {},
   "outputs": [
    {
     "data": {
      "text/plain": [
       "10"
      ]
     },
     "execution_count": 18,
     "metadata": {},
     "output_type": "execute_result"
    }
   ],
   "source": [
    "# total no of products category\n",
    "category.count()"
   ]
  },
  {
   "cell_type": "code",
   "execution_count": 19,
   "id": "8ba1569c-6cbd-4649-8930-9b9b12c1fc95",
   "metadata": {},
   "outputs": [],
   "source": [
    "from pyspark.sql import SparkSession\n",
    "\n",
    "spark = (\n",
    "    SparkSession.builder\n",
    "    .appName(\"AppleStoreETL\")\n",
    "    .config(\"spark.jars\", r\"C:\\spark\\spark-3.3.2-bin-hadoop3\\jars\\postgresql-42.7.7.jar\")  # ✅ Use raw string\n",
    "    .getOrCreate()\n",
    ")\n",
    "\n"
   ]
  },
  {
   "cell_type": "code",
   "execution_count": 20,
   "id": "ed1541f1-6ef4-4c10-ac9d-c93292148f05",
   "metadata": {},
   "outputs": [
    {
     "name": "stdout",
     "output_type": "stream",
     "text": [
      "✅ Loaded DataFrame into PostgreSQL table: products\n",
      "✅ Loaded DataFrame into PostgreSQL table: warranty\n",
      "✅ Loaded DataFrame into PostgreSQL table: sales\n",
      "✅ Loaded DataFrame into PostgreSQL table: stores\n",
      "✅ Loaded DataFrame into PostgreSQL table: category\n"
     ]
    }
   ],
   "source": [
    "def save_to_postgres(df, table_name, mode=\"append\"):\n",
    "    (\n",
    "        df.write\n",
    "          .format(\"jdbc\")\n",
    "          .option(\"url\", \"jdbc:postgresql://localhost:5432/apple\")  # your database\n",
    "          .option(\"dbtable\", table_name)                             # target table\n",
    "          .option(\"user\", \"postgres\")                                # your username\n",
    "          .option(\"password\", \"Admin\")                                # your password\n",
    "          .option(\"driver\", \"org.postgresql.Driver\")\n",
    "          .option(\"batchsize\", 5000)                                  # optional tuning\n",
    "          .mode(mode)                                                 # append or overwrite\n",
    "          .save()\n",
    "    )\n",
    "    print(f\"✅ Loaded DataFrame into PostgreSQL table: {table_name}\")\n",
    "\n",
    "# ✅ Store all DataFrames in a dictionary\n",
    "tables = {\n",
    "    \"products\": products,\n",
    "    \"warranty\": warranty,\n",
    "    \"sales\": sales,\n",
    "    \"stores\": stores,\n",
    "    \"category\": category\n",
    "}\n",
    "\n",
    "# ✅ Loop through and save all tables at once\n",
    "for name, df in tables.items():\n",
    "    save_to_postgres(df, name, mode=\"append\")   # use \"overwrite\" for first time if needed\n"
   ]
  },
  {
   "cell_type": "code",
   "execution_count": null,
   "id": "88daa6dc-e019-44ae-aefe-8c92959bf9e6",
   "metadata": {},
   "outputs": [],
   "source": []
  },
  {
   "cell_type": "code",
   "execution_count": null,
   "id": "abfe68e8-656f-4539-a292-df5217958c3e",
   "metadata": {},
   "outputs": [],
   "source": []
  }
 ],
 "metadata": {
  "kernelspec": {
   "display_name": "Python (PySpark)",
   "language": "python",
   "name": "pyspark_env"
  },
  "language_info": {
   "codemirror_mode": {
    "name": "ipython",
    "version": 3
   },
   "file_extension": ".py",
   "mimetype": "text/x-python",
   "name": "python",
   "nbconvert_exporter": "python",
   "pygments_lexer": "ipython3",
   "version": "3.12.4"
  }
 },
 "nbformat": 4,
 "nbformat_minor": 5
}
